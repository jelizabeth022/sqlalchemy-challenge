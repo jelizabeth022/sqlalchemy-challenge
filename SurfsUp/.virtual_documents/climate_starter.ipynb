%matplotlib inline
from matplotlib import style
style.use('fivethirtyeight')
import matplotlib.pyplot as plt


import numpy as np
import pandas as pd
import datetime as dt





# Python SQL toolkit and Object Relational Mapper
import sqlalchemy
from sqlalchemy.ext.automap import automap_base
from sqlalchemy.orm import Session
from sqlalchemy import create_engine, func


# create engine to hawaii.sqlite
engine = create_engine("sqlite:///Resources/hawaii.sqlite")


# reflect an existing database into a new model
Base = automap_base()

# reflect the tables
Base.prepare(engine, reflect=True)


# View all of the classes that automap found
Base.classes.keys()


# Save references to each table
Measurement = Base.classes.measurement
Station = Base.classes.station


# Create our session (link) from Python to the DB
# Import Session from SQLAlchemy
from sqlalchemy.orm import Session

# Create a session to interact with the database
session = Session(engine)






# Find the most recent date in the data set.
most_recent_date = session.query(func.max(Measurement.date)).scalar()

# Print the result
print(f"Most Recent Date: {most_recent_date}")


# Design a query to retrieve the last 12 months of precipitation data and plot the results. 
# Starting from the most recent data point in the database. 

one_year= dt.date(2017, 8, 23)-dt.timedelta(days=365)

# Calculate the date one year from the last date in data set.

prev_last_date = dt.date(one_year.year, one_year.month, one_year.day)

# Perform a query to retrieve the data and precipitation scores
results= session.query(Measurement.date, Measurement.prcp).filter(Measurement.date >= prev_last_date).order_by(Measurement.date).all()

# Save the query results as a Pandas DataFrame. Explicitly set the column names

data_df =pd.DataFrame(results, columns=['date', 'precipitation'])

# Sort the dataframe by date
data_df.set_index(data_df['date'], inplace =True)

# Use Pandas Plotting with Matplotlib to plot the data
#drop N/A cells
clean_data_df = data_df.dropna()

#data_df.head()

# Use Pandas Plotting with Matplotlib to plot the data

plt.xlabel("Date")
plt.ylabel("Precipitation (inches)")
plt.title("Precipitation Over the Last 12 Months")
plt.xticks(rotation=45)
plt.grid()

# Show the plot
plt.show()


# Use Pandas to calculate the summary statistics for the precipitation data
precipitation_summary = precipitation_df['Precipitation'].describe()

# Display the summary statistics
print(precipitation_summary)






# Design a query to calculate the total number of stations in the dataset



# Design a query to find the most active stations (i.e. which stations have the most rows?)
# List the stations and their counts in descending order.



# Using the most active station id from the previous query, calculate the lowest, highest, and average temperature.



# Using the most active station id
# Query the last 12 months of temperature observation data for this station and plot the results as a histogram






# Close Session
session.close()



